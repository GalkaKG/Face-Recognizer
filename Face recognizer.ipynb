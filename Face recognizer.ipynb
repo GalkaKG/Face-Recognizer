{
 "cells": [
  {
   "cell_type": "code",
   "execution_count": 1,
   "id": "6207a40d-3dbf-48ed-9eec-977048579be7",
   "metadata": {},
   "outputs": [],
   "source": [
    "#1. Generate dataset\n",
    "#2. Train the classifier and save it\n",
    "#3. Detect the face and named it if it is already stored in the dataset"
   ]
  },
  {
   "cell_type": "markdown",
   "id": "83339919-04a5-4ff4-81bb-615b0540f434",
   "metadata": {},
   "source": [
    "# Generate dataset"
   ]
  },
  {
   "cell_type": "code",
   "execution_count": 3,
   "id": "b1209191-76fe-42da-b329-7554460685d6",
   "metadata": {},
   "outputs": [],
   "source": [
    "import cv2\n",
    "import os\n",
    "\n",
    "import numpy as np \n",
    "from PIL import Image"
   ]
  },
  {
   "cell_type": "code",
   "execution_count": 3,
   "id": "0cd78ffe-e262-4ad0-ab06-32d47b9a2685",
   "metadata": {},
   "outputs": [],
   "source": [
    "# def generate_dataset():\n",
    "#     face_classifier = cv2.CascadeClassifier(\"haarcascade_frontalface_default.xml\")\n",
    "#     def face_cropped(img):\n",
    "#         gray = cv2.cvtColor(img, cv2.COLOR_BGR2GRAY)\n",
    "#         faces = face_classifier.detectMultiScale(gray, 1.3, 5)\n",
    "#         #scaling factor = 1.3\n",
    "#         #Minimum neighbor = 5\n",
    "\n",
    "#         if faces == ():\n",
    "#             return None\n",
    "#         for (x, y, w, h) in faces:\n",
    "#             cropped_face = img[y: y + h, x: x + w]\n",
    "#         return cropped_face\n",
    "        \n",
    "#     cap = cv2.VideoCapture(0)\n",
    "#     id = 1\n",
    "#     img_id = 0\n",
    "    \n",
    "#     while True:\n",
    "#         ret, frame = cap.read()\n",
    "#         if face_cropped(frame) is not None:\n",
    "#             img_id += 1\n",
    "#             face = cv2.resize(face_cropped(frame), (200, 200))\n",
    "#             face = cv2.cvtColor(face, cv2.COLOR_BGR2GRAY)\n",
    "#             file_name_path = \"data/user.\" + str(id) + \".\" + str(img_id) + \".jpg\" \n",
    "#             cv2.imwrite(file_name_path, face)\n",
    "#             cv2.putText(face, str(img_id), (50, 50), cv2.FONT_HERSHEY_COMPLEX, 1, (0, 255, 0), 2)\n",
    "#             # (50, 50) is the origin point from where textis to be writen\n",
    "#             # font scale = 1\n",
    "#             # thickness = 2\n",
    "            \n",
    "#             cv2.imshow(\"Cropped face\", face)\n",
    "#             if cv2.waitKey(1) == 13 or int(img_id) == 200:\n",
    "#                 break\n",
    "#         cap.release()\n",
    "#         cv2.destroyAllWindows()\n",
    "#         print(\"Collecting samples is completed.......\")\n",
    "        \n",
    "# generate_dataset()\n",
    "\n",
    "# if not cap.isOpened():\n",
    "#     print(\"Error: Could not open video stream.\")\n",
    "#     return"
   ]
  },
  {
   "cell_type": "code",
   "execution_count": 4,
   "id": "0aa76f88-3930-44d9-b884-149be10b9025",
   "metadata": {},
   "outputs": [
    {
     "name": "stdout",
     "output_type": "stream",
     "text": [
      "Collecting samples is completed.......\n"
     ]
    }
   ],
   "source": [
    "def generate_dataset():\n",
    "    # Load the cascade classifier for face detection\n",
    "    face_classifier = cv2.CascadeClassifier(\"haarcascade_frontalface_default.xml\")\n",
    "    \n",
    "    # Function to crop the face from the image\n",
    "    def face_cropped(img):\n",
    "        if img is None:\n",
    "            return None\n",
    "        gray = cv2.cvtColor(img, cv2.COLOR_BGR2GRAY)\n",
    "        faces = face_classifier.detectMultiScale(gray, 1.3, 5)\n",
    "        \n",
    "        if len(faces) == 0:\n",
    "            return None\n",
    "        for (x, y, w, h) in faces:\n",
    "            cropped_face = img[y:y + h, x:x + w]\n",
    "        return cropped_face\n",
    "\n",
    "    # Open video capture\n",
    "    cap = cv2.VideoCapture(0)\n",
    "    \n",
    "    # Check if the capture opened successfully\n",
    "    if not cap.isOpened():\n",
    "        print(\"Error: Could not open video stream.\")\n",
    "        return\n",
    "    \n",
    "    # Ensure output directory exists\n",
    "    os.makedirs(\"data\", exist_ok=True)\n",
    "\n",
    "    id = 3\n",
    "    img_id = 0\n",
    "\n",
    "    while True:\n",
    "        ret, frame = cap.read()\n",
    "        if not ret:\n",
    "            print(\"Failed to grab frame\")\n",
    "            break\n",
    "        \n",
    "        face = face_cropped(frame)\n",
    "        if face is not None:\n",
    "            img_id += 1\n",
    "            face = cv2.resize(face, (200, 200))\n",
    "            face = cv2.cvtColor(face, cv2.COLOR_BGR2GRAY)\n",
    "            file_name_path = os.path.join(\"data\", f\"user.{id}.{img_id}.jpg\")\n",
    "            cv2.imwrite(file_name_path, face)\n",
    "            cv2.putText(face, str(img_id), (50, 50), cv2.FONT_HERSHEY_COMPLEX, 1, (0, 255, 0), 2)\n",
    "            \n",
    "            # Display only the cropped face\n",
    "            cv2.imshow(\"Cropped face\", face)\n",
    "            \n",
    "            # Exit on pressing Enter key or after 200 images\n",
    "            if cv2.waitKey(1) == 13 or img_id == 200:\n",
    "                break\n",
    "    \n",
    "    # Release resources\n",
    "    cap.release()\n",
    "    cv2.destroyAllWindows()\n",
    "    print(\"Collecting samples is completed.......\")\n",
    "\n",
    "generate_dataset()\n"
   ]
  },
  {
   "cell_type": "markdown",
   "id": "d830684f-9d3b-4ef7-a991-151928b1be99",
   "metadata": {},
   "source": [
    "# Train the classifier and save it"
   ]
  },
  {
   "cell_type": "code",
   "execution_count": 6,
   "id": "1635399b-e2e6-40e2-b791-66586f8b1b18",
   "metadata": {},
   "outputs": [
    {
     "ename": "AttributeError",
     "evalue": "module 'cv2' has no attribute 'face'",
     "output_type": "error",
     "traceback": [
      "\u001b[1;31m---------------------------------------------------------------------------\u001b[0m",
      "\u001b[1;31mAttributeError\u001b[0m                            Traceback (most recent call last)",
      "Cell \u001b[1;32mIn[6], line 21\u001b[0m\n\u001b[0;32m     18\u001b[0m     clf\u001b[38;5;241m.\u001b[39mtrain(faces, ids)\n\u001b[0;32m     19\u001b[0m     \u001b[38;5;28mcls\u001b[39m\u001b[38;5;241m.\u001b[39mwrite(\u001b[38;5;124m\"\u001b[39m\u001b[38;5;124mclassifier.xml\u001b[39m\u001b[38;5;124m\"\u001b[39m)\n\u001b[1;32m---> 21\u001b[0m train_classifier(\u001b[38;5;124m\"\u001b[39m\u001b[38;5;124m./data\u001b[39m\u001b[38;5;124m\"\u001b[39m)\n",
      "Cell \u001b[1;32mIn[6], line 17\u001b[0m, in \u001b[0;36mtrain_classifier\u001b[1;34m(data_dir)\u001b[0m\n\u001b[0;32m     14\u001b[0m ids \u001b[38;5;241m=\u001b[39m np\u001b[38;5;241m.\u001b[39marray(ids)\n\u001b[0;32m     16\u001b[0m \u001b[38;5;66;03m#Train classifier and save\u001b[39;00m\n\u001b[1;32m---> 17\u001b[0m clf \u001b[38;5;241m=\u001b[39m cv2\u001b[38;5;241m.\u001b[39mface\u001b[38;5;241m.\u001b[39mLBPHFaceRecognizer_create()\n\u001b[0;32m     18\u001b[0m clf\u001b[38;5;241m.\u001b[39mtrain(faces, ids)\n\u001b[0;32m     19\u001b[0m \u001b[38;5;28mcls\u001b[39m\u001b[38;5;241m.\u001b[39mwrite(\u001b[38;5;124m\"\u001b[39m\u001b[38;5;124mclassifier.xml\u001b[39m\u001b[38;5;124m\"\u001b[39m)\n",
      "\u001b[1;31mAttributeError\u001b[0m: module 'cv2' has no attribute 'face'"
     ]
    }
   ],
   "source": [
    "def train_classifier(data_dir):\n",
    "    path = [os.path.join(data_dir, f) for f in os.listdir(data_dir)]\n",
    "    faces = []\n",
    "    ids = []\n",
    "\n",
    "    for image in path:\n",
    "        img = Image.open(image).convert('L')\n",
    "        imageNp = np.array(img, 'uint8')\n",
    "        id = os.path.split(image)[1].split(\".\")[1]\n",
    "\n",
    "        faces.append(imageNp)\n",
    "        ids.append(id)\n",
    "\n",
    "    ids = np.array(ids)\n",
    "\n",
    "    #Train classifier and save\n",
    "    clf = cv2.face.LBPHFaceRecognizer_create()\n",
    "    clf.train(faces, ids)\n",
    "    cls.write(\"classifier.xml\")\n",
    "    \n",
    "train_classifier(\"./data\")"
   ]
  }
 ],
 "metadata": {
  "kernelspec": {
   "display_name": "Python 3 (ipykernel)",
   "language": "python",
   "name": "python3"
  },
  "language_info": {
   "codemirror_mode": {
    "name": "ipython",
    "version": 3
   },
   "file_extension": ".py",
   "mimetype": "text/x-python",
   "name": "python",
   "nbconvert_exporter": "python",
   "pygments_lexer": "ipython3",
   "version": "3.11.7"
  }
 },
 "nbformat": 4,
 "nbformat_minor": 5
}
